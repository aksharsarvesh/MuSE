{
 "cells": [
  {
   "cell_type": "code",
   "execution_count": 9,
   "metadata": {},
   "outputs": [],
   "source": [
    "import csv\n",
    "import ast\n",
    "import os\n",
    "import requests\n",
    "from dotenv import load_dotenv\n",
    "import mysql.connector\n",
    "import ssl\n",
    "import pymysql\n",
    "\n",
    "# Initialize an empty array to store the data\n",
    "# data = []\n",
    "\n",
    "# Open the CSV file\n",
    "\n",
    "load_dotenv()\n",
    "\n",
    "DELIMITER = \"<BRK>\"\n",
    "                                \n",
    "counter = -1"
   ]
  },
  {
   "cell_type": "code",
   "execution_count": 10,
   "metadata": {},
   "outputs": [],
   "source": [
    "# Adding this flag so we don't update every time \n",
    "update_songs_flag = False\n",
    "\n",
    "conn = pymysql.connect(\n",
    "    user=os.getenv('DB_USERNAME'),\n",
    "    password=os.getenv('DB_PASSWORD'),\n",
    "    host=os.getenv('DB_HOST'),\n",
    "    port=int(os.getenv('DB_PORT')),\n",
    "    database=os.getenv('DB_NAME'),\n",
    "    ssl={'ca': './ca-certificate.crt'}\n",
    ")\n",
    "\n",
    "cursor = conn.cursor()\n",
    "\n",
    "if update_songs_flag == True: \n",
    "    with open('final_tracks.csv', mode='r') as file:\n",
    "        csv_reader = csv.reader(file)\n",
    "\n",
    "        for row in csv_reader:\n",
    "            if counter >= 0 and counter > last_committed:\n",
    "                index = counter\n",
    "                name = row[1]\n",
    "                artists = ast.literal_eval(row[2])\n",
    "                artists_str = DELIMITER.join(artists)\n",
    "                song_id = row[3]\n",
    "                popularity = row[4] \n",
    "                artist_ids = ast.literal_eval(row[8])\n",
    "                artist_ids_str = DELIMITER.join(artist_ids)\n",
    "                playlist_ids = ast.literal_eval(row[9])\n",
    "                num_playlists = len(playlist_ids)\n",
    "                playlist_ids_str = DELIMITER.join(playlist_ids)\n",
    "                \n",
    "                print(str(index) + \":\", name, \"-\", artists_str)\n",
    "\n",
    "                query = \"\"\"\n",
    "                    INSERT INTO CS_229_SONGS_ALL (SONG_NUM, NAME, ARTISTS, SONG_ID, POPULARITY, ARTIST_ID, PLAYLIST_IDS, NUM_PLAYLISTS)\n",
    "                    VALUES (%s, %s, %s, %s, %s, %s, %s, %s)\n",
    "                \"\"\"\n",
    "\n",
    "                cursor.execute(query, (index, name, artists_str, song_id, popularity, artist_ids_str, playlist_ids_str, num_playlists))\n",
    "                conn.commit()\n",
    "\n",
    "            last_committed = counter\n",
    "            counter += 1\n",
    "\n",
    "conn.close()"
   ]
  },
  {
   "cell_type": "code",
   "execution_count": 11,
   "metadata": {},
   "outputs": [
    {
     "name": "stdout",
     "output_type": "stream",
     "text": [
      "Song Number: 4970, Name: Sweater Weather, Number of Playlists: 97\n",
      "Song Number: 4670, Name: Smells Like Teen Spirit, Number of Playlists: 88\n"
     ]
    }
   ],
   "source": [
    "import os\n",
    "import pymysql\n",
    "from dotenv import load_dotenv\n",
    "\n",
    "playlist_set = set()\n",
    "songs_set = set()\n",
    "num_songs = 2\n",
    "# Load environment variables from .env file\n",
    "load_dotenv()\n",
    "\n",
    "# Establish a connection to the database\n",
    "conn = pymysql.connect(\n",
    "    user=os.getenv('DB_USERNAME'),\n",
    "    password=os.getenv('DB_PASSWORD'),\n",
    "    host=os.getenv('DB_HOST'),\n",
    "    port=int(os.getenv('DB_PORT')),\n",
    "    database=os.getenv('DB_NAME')\n",
    ")\n",
    "\n",
    "try:\n",
    "    with conn.cursor() as cursor:\n",
    "        # SQL query to find the top 10,000 songs based on NUM_PLAYLISTS\n",
    "        query = f\"\"\"\n",
    "            SELECT SONG_NUM, NAME, NUM_PLAYLISTS, PLAYLIST_IDS\n",
    "            FROM CS_229_SONGS_ALL\n",
    "            ORDER BY NUM_PLAYLISTS DESC\n",
    "            LIMIT {num_songs}\n",
    "        \"\"\"\n",
    "        cursor.execute(query)\n",
    "        \n",
    "        # Fetch all results\n",
    "        top_songs = cursor.fetchall()\n",
    "\n",
    "        # Print results\n",
    "        for song in top_songs:\n",
    "            playlist_ids_list = song[3].split(DELIMITER)\n",
    "            playlist_set.update(set(playlist_ids_list))\n",
    "            songs_set.add(song[0])\n",
    "            print(f\"Song Number: {song[0]}, Name: {song[1]}, Number of Playlists: {song[2]}\")\n",
    "\n",
    "finally:\n",
    "    # Close the connection\n",
    "    conn.close()"
   ]
  },
  {
   "cell_type": "code",
   "execution_count": 12,
   "metadata": {},
   "outputs": [
    {
     "name": "stdout",
     "output_type": "stream",
     "text": [
      "182\n"
     ]
    }
   ],
   "source": [
    "print(str(len(playlist_set)))"
   ]
  },
  {
   "cell_type": "code",
   "execution_count": 13,
   "metadata": {},
   "outputs": [],
   "source": [
    "load_dotenv()\n",
    "\n",
    "# This dict maps playlist to the songs in those playlists \n",
    "playlist_songs_dict = {}\n",
    "\n",
    "for playlist in playlist_set: \n",
    "    playlist_songs_dict[playlist] = []\n",
    "\n",
    "conn = pymysql.connect(\n",
    "    user=os.getenv('DB_USERNAME'),\n",
    "    password=os.getenv('DB_PASSWORD'),\n",
    "    host=os.getenv('DB_HOST'),\n",
    "    port=int(os.getenv('DB_PORT')),\n",
    "    database=os.getenv('DB_NAME')\n",
    ")\n",
    "\n",
    "try:\n",
    "    with conn.cursor() as cursor:\n",
    "        query = \"\"\"\n",
    "            SELECT SONG_NUM, PLAYLIST_IDS\n",
    "            FROM CS_229_SONGS_ALL\n",
    "            ORDER BY NUM_PLAYLISTS DESC\n",
    "        \"\"\"\n",
    "        cursor.execute(query)\n",
    "\n",
    "        all_songs = cursor.fetchall()\n",
    "\n",
    "        for song in all_songs:\n",
    "            add_song_flag = False\n",
    "            for playlist in song[1].split(DELIMITER): \n",
    "                if playlist in playlist_set: \n",
    "                    playlist_songs_dict[playlist].append(song[0])\n",
    "                    add_song_flag = True\n",
    "\n",
    "            if add_song_flag: \n",
    "                songs_set.add(song[0])\n",
    "\n",
    "finally:\n",
    "    # Close the connection\n",
    "    conn.close()"
   ]
  },
  {
   "cell_type": "code",
   "execution_count": 14,
   "metadata": {},
   "outputs": [
    {
     "name": "stdout",
     "output_type": "stream",
     "text": [
      "# of songs in the database is: 8807\n"
     ]
    }
   ],
   "source": [
    "print(\"# of songs in the database is:\", str(len(songs_set)))"
   ]
  },
  {
   "cell_type": "code",
   "execution_count": 15,
   "metadata": {},
   "outputs": [
    {
     "name": "stdout",
     "output_type": "stream",
     "text": [
      "Finished processing playlist #100\n"
     ]
    }
   ],
   "source": [
    "# Making co-occurrence matrix \n",
    "\n",
    "from scipy.sparse import lil_matrix, csr_matrix\n",
    "import numpy as np\n",
    "\n",
    "# Our vocab is the songs_set \n",
    "# Map song names to indexes \n",
    "song_to_index = {song: index for index, song in enumerate(list(songs_set))}\n",
    "\n",
    "cooccurrence_matrix = lil_matrix((len(songs_set), len(songs_set)), dtype=int)\n",
    "\n",
    "playlist_counter = 0\n",
    "for playlist in playlist_set: \n",
    "    # Indexes as row, col in matrix to update, mapped from the songs associated with the playlist\n",
    "    indexes = [song_to_index[song] for song in playlist_songs_dict[playlist]]\n",
    "    for i in range(len(indexes)):\n",
    "        for j in range(i + 1, len(indexes)): \n",
    "            cooccurrence_matrix[indexes[i], indexes[j]] += 1\n",
    "            cooccurrence_matrix[indexes[j], indexes[i]] += 1\n",
    "    playlist_counter += 1\n",
    "    if playlist_counter % 100 == 0: \n",
    "        print(\"Finished processing playlist #\" + str(playlist_counter))"
   ]
  },
  {
   "cell_type": "code",
   "execution_count": 16,
   "metadata": {},
   "outputs": [
    {
     "name": "stdout",
     "output_type": "stream",
     "text": [
      "Co-occurrence matrix shape: (8807, 8807)\n",
      "Number of non-zero entries: 1330210\n",
      "Number of zero entries: 11735792034\n",
      "Row sums (first 10): [ 99 194  99  97 146  94  99 546  99 295]\n",
      "Column sums (first 10): [ 99 194  99  97 146  94  99 546  99 295]\n"
     ]
    }
   ],
   "source": [
    "# Sanity checks on the co-occurrence matrix \n",
    "cooccurrence_matrix = cooccurrence_matrix.tocsr()\n",
    "print(\"Co-occurrence matrix shape:\", cooccurrence_matrix.shape)\n",
    "print(\"Number of non-zero entries:\", cooccurrence_matrix.nnz)\n",
    "print(\"Number of zero entries:\", str(108338 ** 2 - cooccurrence_matrix.nnz))\n",
    "\n",
    "row_sums = cooccurrence_matrix.sum(axis=1)\n",
    "column_sums = cooccurrence_matrix.sum(axis=0)\n",
    "\n",
    "row_sums = np.array(row_sums).flatten()\n",
    "column_sums = np.array(column_sums).flatten()\n",
    "\n",
    "print(\"Row sums (first 10):\", row_sums[:10])\n",
    "print(\"Column sums (first 10):\", column_sums[:10])\n"
   ]
  },
  {
   "cell_type": "code",
   "execution_count": 17,
   "metadata": {},
   "outputs": [
    {
     "name": "stdout",
     "output_type": "stream",
     "text": [
      "8807\n",
      "65552\n",
      "0\n",
      "(4970, 'spotify:playlist:0ea8BtJBTgllhyuEX9RQ8f<BRK>spotify:playlist:04dM82Yt2DcDdGuDsVxiC6<BRK>spotify:playlist:19hxMsnWeXhGBLXGHOXRWJ<BRK>spotify:playlist:2lYTHgnKdLF134LiyLsA9y<BRK>spotify:playlist:6oR2Yk40qHxmZsJNWID5Kv<BRK>spotify:playlist:6zzC8aBbcyX1AtPNJv4ebs<BRK>spotify:playlist:5FYVq0tTPVjogyZmBYtf1F<BRK>spotify:playlist:6DVEl9wfaVbvnYfxEuSE2d<BRK>spotify:playlist:6HyTihf1LpK5YUIndutRBX<BRK>spotify:playlist:0uDEMy8zboD1Ha2731j4qh<BRK>spotify:playlist:2RFmwA1UF7zhcalTC6YbUY<BRK>spotify:playlist:5jg16XBJkVrYYccI2tvL2B<BRK>spotify:playlist:1Gd2QkSfhmHZrFUa0oPpwm<BRK>spotify:playlist:4nuAs8oc3F0LklsMQyXeao<BRK>spotify:playlist:5HAUemLYN1kGSqx1LnGLPS<BRK>spotify:playlist:5cuBCukijEZGyTL83LvwlL<BRK>spotify:playlist:3slaIi3nw0gat5IXNdFgmi<BRK>spotify:playlist:6KaF2jOKBgirsyeASOXwxT<BRK>spotify:playlist:0wNHZTLriAeZxhD4A8K1WP<BRK>spotify:playlist:2cPccAKvCkPN2B6eWfiCnh<BRK>spotify:playlist:2KBb1d8YVICO3Gj3Km9Ju0<BRK>spotify:playlist:5xf47f8EISHQytbzqkkGbb<BRK>spotify:playlist:6u4nWuPuEx1mGie0WcXzlK<BRK>spotify:playlist:6a0NC5OgaJFjefIzQM7xb9<BRK>spotify:playlist:0ezmh7nm6kFCvfWiun7Wl7<BRK>spotify:playlist:37i9dQZF1DWYBF1dYDPlHw<BRK>spotify:playlist:55JLMpiTkYbzezZYfJYDNi<BRK>spotify:playlist:27MOikgPyioN5WaGV8znr8<BRK>spotify:playlist:1YqqceG0H4UWrJvzf9xLbA<BRK>spotify:playlist:74yK5UQ1XYPBN4ZzNonGno<BRK>spotify:playlist:37i9dQZF1DX2G2VrXHSPQG<BRK>spotify:playlist:7Ic4lk6O369C8aSs58oPBW<BRK>spotify:playlist:2k9mazwsywrYrSEfynMf8Q<BRK>spotify:playlist:4sAx72kDlH450ywT5ZGUhT<BRK>spotify:playlist:7Flfj6ynULLBWMBMLcqeSp<BRK>spotify:playlist:5Au4J2pxGJakQ5wSLybhws<BRK>spotify:playlist:7CA7GXwT0eLAOkYAtqWrqK<BRK>spotify:playlist:3nZ8duEJnWYI3Fpu4HSD8W<BRK>spotify:playlist:3ftJ4yG1Yaj3AjGxX5dvz7<BRK>spotify:playlist:4SlQADmBaEfs5ZvHpK0htj<BRK>spotify:playlist:5T5cTXq2PaCBpaYKtdnLKa<BRK>spotify:playlist:40xf6OwyaMlK4q3uOK4ufd<BRK>spotify:playlist:37i9dQZF1DXaLaoaQqrfyO<BRK>spotify:playlist:3jupBanVbPM2D2gATMLmFt<BRK>spotify:playlist:5bUVfzb5rek5uCBbpuDfBU<BRK>spotify:playlist:1RTZxZJpI4JHfVwYCVKEQ3<BRK>spotify:playlist:7tIuCfb54UpLaz40vxSgzf<BRK>spotify:playlist:4h2MD8T5fNW2Ss8sO5up68<BRK>spotify:playlist:5G62jjya66rMzN6pTW6VJf<BRK>spotify:playlist:37i9dQZF1DXcfJb5A3855D<BRK>spotify:playlist:4MsHSGcdZAUfn7T404sV4u<BRK>spotify:playlist:7hJfYpKLDQwmeHIPTmNS5y<BRK>spotify:playlist:41Mys1GC5uTVs6DayqQHna<BRK>spotify:playlist:6fvqHsNEsQw3I2kHeNgbqZ<BRK>spotify:playlist:0PFaxNRQnYxnIZe6y7SsEb<BRK>spotify:playlist:5dLOKiI6RR3IMeBYutyNfb<BRK>spotify:playlist:3OfU4PnTD4O6InJqRklGCy<BRK>spotify:playlist:7zH08TFWlt2nsfdepZnV60<BRK>spotify:playlist:64dyskYYcSSbTHxz5o61Ft<BRK>spotify:playlist:2EAW0lhUYN0FQqarIK3A59<BRK>spotify:playlist:37i9dQZF1DX6aTaZa0K6VA<BRK>spotify:playlist:1TEgqlNkLIpt5bchvRfKMn<BRK>spotify:playlist:6u6FAiHq3yBcPz5LIZOyQt<BRK>spotify:playlist:3jA2WKfI3XpofeTHYNWdWY<BRK>spotify:playlist:6Kb2YYUq2i9evjBm6UjEgP<BRK>spotify:playlist:5YnieTy1QVmyHGiq0D6h7w<BRK>spotify:playlist:09Skv25dMObBWR1la2Xcea<BRK>spotify:playlist:5l6EoVMqJKjhPbRShtG1Ro<BRK>spotify:playlist:6fWqse3fGr1OhzZFvMTpTC<BRK>spotify:playlist:29u9TySXb40AsmN7x82qPz<BRK>spotify:playlist:5jqFwKbjdEIoQfytLlyYm1<BRK>spotify:playlist:1faPV2WDyZ9hfTpXwUFe2f<BRK>spotify:playlist:0A3O4bADJE3wmCue6OCjQT<BRK>spotify:playlist:5q8bxFXSXwfhjR4XXBDpmF<BRK>spotify:playlist:37i9dQZF1DX9GRpeH4CL0S<BRK>spotify:playlist:2iUeuBHRDhgZVqf9RuShK9<BRK>spotify:playlist:2gPydmjdl7UoXMe6CCobQA<BRK>spotify:playlist:2WkvMoGs2eCo2LmBfewqSy<BRK>spotify:playlist:7Ga7AqEYgczHRwD5ta2DUB<BRK>spotify:playlist:56hlzB3ZCUAVVFdwAez6c3<BRK>spotify:playlist:5ZcNolG8B2BXbyipxT9YRy<BRK>spotify:playlist:7ztCGMKJMU8tmTcos4EC1l<BRK>spotify:playlist:545Ls2GHW8xqjgXr2LiDAm<BRK>spotify:playlist:4LsUafB4xMBrG53HbRmmGl<BRK>spotify:playlist:7eBE1sebCrtZ9j6tfxaeeu<BRK>spotify:playlist:24ZNKUVDHauOE9A3utQxQg<BRK>spotify:playlist:0RcQ3DahpqGWB0YKcozjl5<BRK>spotify:playlist:4e8h7SMp1x3dyNVsAUfN9z<BRK>spotify:playlist:7qaMgYchnFVFJhFX8Uix36<BRK>spotify:playlist:3PEhEoRMMjZv5qxJASFc6N<BRK>spotify:playlist:30oHCrc56YRwoC7wZAxY1q<BRK>spotify:playlist:2xFA7AqehvJyrEBoaJRc3a<BRK>spotify:playlist:2L1oxQDMeJ7yp8HwQ4YtzV<BRK>spotify:playlist:4KneackKfNie7ztDBP2VTj<BRK>spotify:playlist:4w6YMXqzvywhsFv8106oyI<BRK>spotify:playlist:4Yz2WajlFMAFotJZhheqYp<BRK>spotify:playlist:4RYwYf2QImR34DhlW661Ul')\n",
      "65578\n",
      "1\n",
      "(4670, 'spotify:playlist:41Qgn46dISDuUp4oynvZCd<BRK>spotify:playlist:4QvC0zAIISJgxl8dZ8J65k<BRK>spotify:playlist:4xHlFY7RKcMHXs9wEkVZo4<BRK>spotify:playlist:1A9UROfmQYI9ip4ljwccl9<BRK>spotify:playlist:328Fwrb4DTVXXtOtp8spVu<BRK>spotify:playlist:57Mn97ereLGsbWNkRDUZTZ<BRK>spotify:playlist:5EAXxzBCv3fsr5Ah0Xmu8t<BRK>spotify:playlist:2xXxYdGx5OvmmwupUQsaGZ<BRK>spotify:playlist:5mGcxvzVCEBTQuV7FMJXoq<BRK>spotify:playlist:5cwIrjOMWTiGCYB5Z9oQix<BRK>spotify:playlist:23wVfSXsUtP9z94e1jMjeQ<BRK>spotify:playlist:45Crz4qJ0lFW6Tx2G7OnYv<BRK>spotify:playlist:7xY8wHHjF0wxke2dkK3sRc<BRK>spotify:playlist:37i9dQZF1DWZNFWEuVbQpD<BRK>spotify:playlist:2PMbTTA1MxjN2Aub07AUBR<BRK>spotify:playlist:0GMhfddbdq4A5JfPlbbe2e<BRK>spotify:playlist:48MRFTckmM4NQTWtQEDarV<BRK>spotify:playlist:6dhemR0cER1i13HHrFr8py<BRK>spotify:playlist:6VRvMmyO09g0Yw8mGsUXjr<BRK>spotify:playlist:37i9dQZF1E4EBdeEVqipSd<BRK>spotify:playlist:37i9dQZF1DX1Mj6nQRkc5p<BRK>spotify:playlist:7mTFu2gc53dhLBTKJiZhYd<BRK>spotify:playlist:1Bd0IfvDgnbAyY44cUEOhz<BRK>spotify:playlist:7KuQ8gOiJS16zdacAf3L8w<BRK>spotify:playlist:0iBm4znWNPsp9qwxNjDY41<BRK>spotify:playlist:1BuWEgWngMiPvJi4zEEH0Z<BRK>spotify:playlist:20LKsiDZd4ALrlihncFcFa<BRK>spotify:playlist:2XfXHh3gDlTRZMXqXBO3yk<BRK>spotify:playlist:3yPIwFAm6vLZn8JbyyjXaP<BRK>spotify:playlist:6N4OpEkWtV9dRKH5UzPiOk<BRK>spotify:playlist:6sei0rz49OBs8DHlp4q3Dl<BRK>spotify:playlist:3AndBZRL0O0tpSBKurlBAD<BRK>spotify:playlist:37i9dQZF1DX7Ku6cgJPhh5<BRK>spotify:playlist:4s3rSrLrVLrHcAXCqF2Rsa<BRK>spotify:playlist:37i9dQZF1DWWRktbhJiuqL<BRK>spotify:playlist:4x1SbefY9zzhONX2ZmTPAc<BRK>spotify:playlist:1wSNdUthGb0OI64uXJfSbP<BRK>spotify:playlist:3cccSX9qfdGUkNO3zY1blJ<BRK>spotify:playlist:3NNfzDyYINk4MDQH8hnytt<BRK>spotify:playlist:3Ho3iO0iJykgEQNbjB2sic<BRK>spotify:playlist:5qNHuEyfs4QHR8NI4oNaxE<BRK>spotify:playlist:37i9dQZF1DX11ghcIxjcjE<BRK>spotify:playlist:0ZrfBhzftYYhuXfGPd93yH<BRK>spotify:playlist:1XAXDKMq2CB0XIIOEtQQEe<BRK>spotify:playlist:5OYI0tHmFMtDhIM0mRwiAx<BRK>spotify:playlist:7yhQZq5H1deW6ITZbyXLCl<BRK>spotify:playlist:37i9dQZF1DX0mi9kezFJ0K<BRK>spotify:playlist:5bzUjdTVh5S9GJPj9PI57e<BRK>spotify:playlist:2NfKuimnrqH31osx7GXnhl<BRK>spotify:playlist:37i9dQZF1DWWsq4e0rDzty<BRK>spotify:playlist:1MEmEumj2uMWr5irFfH63G<BRK>spotify:playlist:50MHm3GLaxk0gzbrgnxTiu<BRK>spotify:playlist:6w8YyLTB3xqlMf32KFlAMs<BRK>spotify:playlist:37i9dQZF1DWXRqgorJj26U<BRK>spotify:playlist:5FXhJfToZ4wgfibYKSFkr2<BRK>spotify:playlist:5HeXW5kRlLrCu0wK1Rtmvv<BRK>spotify:playlist:1HOHWztGVUt9wToerUXo79<BRK>spotify:playlist:7utY6j7Yt6KjFdOWyg7toD<BRK>spotify:playlist:22WE870bjz0ZJYb6ot5yTW<BRK>spotify:playlist:15052pYWX7xgM1jgd4Kx63<BRK>spotify:playlist:118vZyUVFnaJkcPgxEkdd0<BRK>spotify:playlist:3bYbJXZ8Uky4cokLvtO8ZI<BRK>spotify:playlist:2xsIoqzZXdHDvnrot6Z8ql<BRK>spotify:playlist:5nP3qxViMjOHD5AVQ6Z321<BRK>spotify:playlist:3WOcdi1iImpS91xru8yrp0<BRK>spotify:playlist:37i9dQZF1DX8FwnYE6PRvL<BRK>spotify:playlist:6RTCJnHpSYEXg2JPP5rcc6<BRK>spotify:playlist:37i9dQZF1DX9GRpeH4CL0S<BRK>spotify:playlist:39dxW3vCrHtCelAnLW077O<BRK>spotify:playlist:768pWYvefJv5VecJ89IRUy<BRK>spotify:playlist:50eqJNNnwLWctoFvZ2lJ9m<BRK>spotify:playlist:5w9wSHCpl9w8luckvv5mUf<BRK>spotify:playlist:1LS5F6QIWoMT7oQWl6RruB<BRK>spotify:playlist:5n8K6opUwFBUBySmN8Ympd<BRK>spotify:playlist:4DBNiodMbcFPvEXkTUUufH<BRK>spotify:playlist:37i9dQZF1DWXTHBOfJ8aI7<BRK>spotify:playlist:3iMW9gZKcPFznAii4Q4lUI<BRK>spotify:playlist:6m8LL7OWRel6HEgyf756is<BRK>spotify:playlist:7eBE1sebCrtZ9j6tfxaeeu<BRK>spotify:playlist:4LsUafB4xMBrG53HbRmmGl<BRK>spotify:playlist:5exEuw03PxcVAOwP87iZDl<BRK>spotify:playlist:7iiwatkujP1zYjrDffi7R3<BRK>spotify:playlist:01LMglZilmDNPid9QWBVZb<BRK>spotify:playlist:6Apsxba4viyXAdhPX2wFp8<BRK>spotify:playlist:5tgBBns8tt87aDHrtJK8I0<BRK>spotify:playlist:38Z9JUW0RoPf8eZdwAZ0ei<BRK>spotify:playlist:23LG2wxX2XsbgruTjDRMNm<BRK>spotify:playlist:6X087MvwTCv2UweFGaaZ5o')\n",
      "65589\n",
      "2\n",
      "(7109, 'spotify:playlist:41Qgn46dISDuUp4oynvZCd<BRK>spotify:playlist:15VkMuKZreozkJab826opv<BRK>spotify:playlist:6e6zziY1RXJpngTMzyfIqN<BRK>spotify:playlist:1A9UROfmQYI9ip4ljwccl9<BRK>spotify:playlist:5FYVq0tTPVjogyZmBYtf1F<BRK>spotify:playlist:69iMzXWIJDSEMrCqgBq7nr<BRK>spotify:playlist:6DVEl9wfaVbvnYfxEuSE2d<BRK>spotify:playlist:6HyTihf1LpK5YUIndutRBX<BRK>spotify:playlist:2RFmwA1UF7zhcalTC6YbUY<BRK>spotify:playlist:3NnLKQOBbDjQJ492httrok<BRK>spotify:playlist:5SMf1pyrOAwjwheZvHWkaj<BRK>spotify:playlist:23wVfSXsUtP9z94e1jMjeQ<BRK>spotify:playlist:5cuBCukijEZGyTL83LvwlL<BRK>spotify:playlist:37i9dQZF1DWZNFWEuVbQpD<BRK>spotify:playlist:1nn74oQuePHcCTJM9GvpcM<BRK>spotify:playlist:4hjVaaWolx6dIymm7x64LV<BRK>spotify:playlist:1CLtZgIOMHYBSfndPzyBOS<BRK>spotify:playlist:37i9dQZF1DWYBF1dYDPlHw<BRK>spotify:playlist:6VRvMmyO09g0Yw8mGsUXjr<BRK>spotify:playlist:7gbiXe4Ks8SKFcG72Hofzr<BRK>spotify:playlist:3ZUskAAubKNQk7o5gt4c8L<BRK>spotify:playlist:1YqqceG0H4UWrJvzf9xLbA<BRK>spotify:playlist:37i9dQZF1DX1Mj6nQRkc5p<BRK>spotify:playlist:0fdl8h0EC9am1ykTD1t36i<BRK>spotify:playlist:5JR0y4HZhPkDEJ66UbtrOD<BRK>spotify:playlist:0FxNvr7OrMduowE2r0PuIy<BRK>spotify:playlist:1QGAGnozUEKcW3YHAY0OJP<BRK>spotify:playlist:2k9mazwsywrYrSEfynMf8Q<BRK>spotify:playlist:5mU0kcXxbj5swbs3lVLCXB<BRK>spotify:playlist:7CA7GXwT0eLAOkYAtqWrqK<BRK>spotify:playlist:7r1Jmd00FB73nJzbkAP6p0<BRK>spotify:playlist:1Rffsmjjq5isoFn593aLvd<BRK>spotify:playlist:1RXPFwpysWemx8N7wjVf3V<BRK>spotify:playlist:4hTrCDzrw78zHP8oHsECBF<BRK>spotify:playlist:2IlsSvRSauR8ITBbDvG72I<BRK>spotify:playlist:6RY5lfdgL57jW0qfh8LoA0<BRK>spotify:playlist:37i9dQZF1DX49jUV2NfGku<BRK>spotify:playlist:6sei0rz49OBs8DHlp4q3Dl<BRK>spotify:playlist:3AndBZRL0O0tpSBKurlBAD<BRK>spotify:playlist:40xf6OwyaMlK4q3uOK4ufd<BRK>spotify:playlist:4s3rSrLrVLrHcAXCqF2Rsa<BRK>spotify:playlist:3KT3UyXcuc1cajlqy9UjCr<BRK>spotify:playlist:4pMGNTEblVY26W8sg7Z4KK<BRK>spotify:playlist:3o1jJdcl3fz0nxnEvmpozM<BRK>spotify:playlist:37i9dQZF1DX0YKekzl0blG<BRK>spotify:playlist:37i9dQZF1DXd5DCuoVuFY3<BRK>spotify:playlist:4RxcVBjFMWNZmLnwYirwW0<BRK>spotify:playlist:37i9dQZF1DXc7aGdJ1YSSD<BRK>spotify:playlist:37i9dQZF1DX9xdWyDn7XX8<BRK>spotify:playlist:3Tjv0mIA27q4Mfm9TckQB4<BRK>spotify:playlist:2zFfEAY2R9LgzYCamBW1vB<BRK>spotify:playlist:37i9dQZF1DWV3VLITCZusq<BRK>spotify:playlist:20e4rgVKYJg00TCW5KVLP4<BRK>spotify:playlist:37i9dQZF1DX0mi9kezFJ0K<BRK>spotify:playlist:5AuF9MKr6zXm3vBrt8aUEU<BRK>spotify:playlist:5We6JEGrjKCH6LN66wXvCj<BRK>spotify:playlist:50MHm3GLaxk0gzbrgnxTiu<BRK>spotify:playlist:1TEgqlNkLIpt5bchvRfKMn<BRK>spotify:playlist:37i9dQZF1DX35DWKgAk2B5<BRK>spotify:playlist:37i9dQZF1DX6aqIZNmXBGU<BRK>spotify:playlist:3dS5Tqs4bRdZ5X0jfgkXr7<BRK>spotify:playlist:6Kb2YYUq2i9evjBm6UjEgP<BRK>spotify:playlist:29NG7qHTmifdTuZvvvPrG6<BRK>spotify:playlist:4ASGb9HSoMEUekd7ClxZxZ<BRK>spotify:playlist:0LmYAJ2JLYzE7WVuqfc2eP<BRK>spotify:playlist:2YMQbMmsisR4ainatVpe3A<BRK>spotify:playlist:3iFce0DAkMAGkr0LEMg3fH<BRK>spotify:playlist:2KclsAxa8WKTnkQw2e7T4Y<BRK>spotify:playlist:3bYbJXZ8Uky4cokLvtO8ZI<BRK>spotify:playlist:1faPV2WDyZ9hfTpXwUFe2f<BRK>spotify:playlist:5i2qogro4BOnv3onCo65vG<BRK>spotify:playlist:1j8d329ikLrAGt5eEoIdo3<BRK>spotify:playlist:1oOEfvQJLZ9jtL1vZCgGRT<BRK>spotify:playlist:3XKPAphWV2sSj3J0C02Pa5<BRK>spotify:playlist:1VJqjw5fqeNXzjpblw0X9Z<BRK>spotify:playlist:37i9dQZF1DX8FwnYE6PRvL<BRK>spotify:playlist:5EIgeNg71E858vNMpiDNXb<BRK>spotify:playlist:3JLF75PmWCID5J057YdsJ4<BRK>spotify:playlist:6RTCJnHpSYEXg2JPP5rcc6<BRK>spotify:playlist:37i9dQZF1DX9GRpeH4CL0S<BRK>spotify:playlist:2WkvMoGs2eCo2LmBfewqSy<BRK>spotify:playlist:3kLXO5GnNFAkVorfA7j3qw<BRK>spotify:playlist:0VexU6b50GQ1jk0cLi5YS6<BRK>spotify:playlist:47iTe2ZAUL8cOQ4EmiwWaB<BRK>spotify:playlist:5jTkE0z8RM5ijInIHTOixF<BRK>spotify:playlist:4ZGj7Nwa83wQDg20UNuFkC<BRK>spotify:playlist:23LG2wxX2XsbgruTjDRMNm<BRK>spotify:playlist:6hnQhMDBN3EtEGKDhqhDng')\n",
      "65591\n",
      "3\n",
      "(4113, 'spotify:playlist:1PIyOkgoqdFbW096U9xKNO<BRK>spotify:playlist:0ea8BtJBTgllhyuEX9RQ8f<BRK>spotify:playlist:05WIZNcSWhZBuL5FT9hX4k<BRK>spotify:playlist:19hxMsnWeXhGBLXGHOXRWJ<BRK>spotify:playlist:6rLgZTRcUBnRJ0S1WMaXjb<BRK>spotify:playlist:1jWEg8qydHZyRR7eFwuJAI<BRK>spotify:playlist:5m8wsIoVrDmhjGmA0dPX2f<BRK>spotify:playlist:2NHeKcqYk7XheON2YvjtXg<BRK>spotify:playlist:3AWvtyIudOK5WLspSlM1xK<BRK>spotify:playlist:5i1BGHDT839J2dBJojJxiK<BRK>spotify:playlist:0DlWAG5EStDgo5XLr7AUpX<BRK>spotify:playlist:0JqaKY09rGN6l1lpTE6eUI<BRK>spotify:playlist:6KaF2jOKBgirsyeASOXwxT<BRK>spotify:playlist:61xa1d86QLvHj1aEO1gRS7<BRK>spotify:playlist:4chaDlNqAqWNqQu8iNUe5C<BRK>spotify:playlist:2WvceZk8NzfRu4tOYRf7wr<BRK>spotify:playlist:37i9dQZF1DWYBF1dYDPlHw<BRK>spotify:playlist:48MRFTckmM4NQTWtQEDarV<BRK>spotify:playlist:55JLMpiTkYbzezZYfJYDNi<BRK>spotify:playlist:1YqqceG0H4UWrJvzf9xLbA<BRK>spotify:playlist:3tOKIQoVQ6L1mj9Wz5BV8Z<BRK>spotify:playlist:6mHwpXp5J5WHN4dFeejdEH<BRK>spotify:playlist:3ATMp48Ak0P4w5SHVpgd2P<BRK>spotify:playlist:5nRLcFGh26DGafJ9VBWHsb<BRK>spotify:playlist:7jM62qbx0nLl82afAgU3kb<BRK>spotify:playlist:1JXm8oyPZcLN3iLmQCIjnL<BRK>spotify:playlist:37i9dQZF1DXdEslczDHKhX<BRK>spotify:playlist:1Nb192dzf5FU9Lq9O1ymQh<BRK>spotify:playlist:0Yud83nAJhnPpuABp66vr3<BRK>spotify:playlist:5T5cTXq2PaCBpaYKtdnLKa<BRK>spotify:playlist:3AndBZRL0O0tpSBKurlBAD<BRK>spotify:playlist:2PVTUoXJ7gUXNLjNlLOQ18<BRK>spotify:playlist:1oVg933qZAQTSyPM6KiLPP<BRK>spotify:playlist:4UTso0pd4phOJeIWw3kosX<BRK>spotify:playlist:2cXAvcqfqVLJK7IPiPvEQe<BRK>spotify:playlist:7hJfYpKLDQwmeHIPTmNS5y<BRK>spotify:playlist:2qB1FRTAFc5SG7LPi9E8QB<BRK>spotify:playlist:37i9dQZF1DX9xdWyDn7XX8<BRK>spotify:playlist:5iHQ1zpNp22LHLiV9o6RiW<BRK>spotify:playlist:2zFfEAY2R9LgzYCamBW1vB<BRK>spotify:playlist:7ur6pXXdrQYZHVK5qRPbXa<BRK>spotify:playlist:5lyrY9WKRBBTKzV0W52dzp<BRK>spotify:playlist:0gDLiY8TEF3kxoaywraFSA<BRK>spotify:playlist:6VJLr5Ite4RMBNhFL3aQRe<BRK>spotify:playlist:6CWhQMDzDzUyk3e2gmvNeY<BRK>spotify:playlist:0p8hydGf9XYkeXd8OM1Dav<BRK>spotify:playlist:7M9JW94sO9mtxENv0L5lgf<BRK>spotify:playlist:2Dcv1AVHcm6h7ACd4PL7KC<BRK>spotify:playlist:2VxF0Ope2So8d0PQQv9iol<BRK>spotify:playlist:0QVbz54nRfy3JvMIz3oULx<BRK>spotify:playlist:3iFce0DAkMAGkr0LEMg3fH<BRK>spotify:playlist:5T4FjzZ8Uwd4NwcvoLkbEJ<BRK>spotify:playlist:2yvLKu26Cqt5HENIM2BUuV<BRK>spotify:playlist:1faPV2WDyZ9hfTpXwUFe2f<BRK>spotify:playlist:3KtUlQxDqz7T8g4bxY5eeg<BRK>spotify:playlist:5c3sDlhiEC9Fkfw6b6QjPL<BRK>spotify:playlist:5WOczADVAoU8HuUAf8RJTD<BRK>spotify:playlist:5830XyzOtYzFxtMJcYfjk7<BRK>spotify:playlist:6XfLczVQy0REpdClcfmY0f<BRK>spotify:playlist:3XKPAphWV2sSj3J0C02Pa5<BRK>spotify:playlist:2oQeyI9uoezOQwoD98CKmR<BRK>spotify:playlist:4GbhSOvGnVfqubjciILJDj<BRK>spotify:playlist:3WOcdi1iImpS91xru8yrp0<BRK>spotify:playlist:0bKh6LMkR7VPxAl0qvkxs4<BRK>spotify:playlist:2IvnD1qMVK0qYcpjyXNdHu<BRK>spotify:playlist:0zRPuAE1D336YAMtBNjI5w<BRK>spotify:playlist:2h4wEwQR3Jox8zBohnG2Y4<BRK>spotify:playlist:69r4olANiYZrNwgZvXAUd6<BRK>spotify:playlist:7ztCGMKJMU8tmTcos4EC1l<BRK>spotify:playlist:7Fb3AaCKvZnVGQTnBP2NDK<BRK>spotify:playlist:6m8LL7OWRel6HEgyf756is<BRK>spotify:playlist:4e8h7SMp1x3dyNVsAUfN9z<BRK>spotify:playlist:1pbEgzHY5whSLTqNk5CxRN<BRK>spotify:playlist:2EBhPOq47FML4H5Gno9tJQ<BRK>spotify:playlist:7qaMgYchnFVFJhFX8Uix36<BRK>spotify:playlist:66f57aeOM3CDTAqdznc9zv<BRK>spotify:playlist:3QGWAXqudE69UR5MqgWlbA<BRK>spotify:playlist:5Mt0D770s1v0G64AgDBK6B<BRK>spotify:playlist:6jdLmKwQeeY57CUsZQhubA<BRK>spotify:playlist:4Q7hmy1AfaOVZj24Feawbi<BRK>spotify:playlist:19pibm9YilW2lx6c3jG4Th<BRK>spotify:playlist:37i9dQZF1DX1ngEVM0lKrb<BRK>spotify:playlist:3BaTqQ6Y2bDsZYbw5pHjdd')\n",
      "65592\n",
      "4\n",
      "(5079, 'spotify:playlist:4lUv3B71MQqfKbYeAajYza<BRK>spotify:playlist:1cPIgQBzSthkjZuSRxUPQM<BRK>spotify:playlist:7EjLRdsh6oWd7FDlaYPoPQ<BRK>spotify:playlist:37i9dQZF1DWVV2zBKmr0Rt<BRK>spotify:playlist:7qI57Gb9Y5rIXHiFpnnRqf<BRK>spotify:playlist:1FY6qkTyKcnYkylejJK2Aq<BRK>spotify:playlist:2O7QT0Bhw0M2JOeMWjDNWZ<BRK>spotify:playlist:15VkMuKZreozkJab826opv<BRK>spotify:playlist:05WIZNcSWhZBuL5FT9hX4k<BRK>spotify:playlist:1ruwQCfcfeizYYwvxwZ2gD<BRK>spotify:playlist:5HAe9LYbDULekXk5K0Ld4d<BRK>spotify:playlist:5bMOa2rVyJ5hNOos64hJMn<BRK>spotify:playlist:4wrjDhIIdkte8jJoCdEENz<BRK>spotify:playlist:5AuF9MKr6zXm3vBrt8aUEU<BRK>spotify:playlist:0YpZZpYf08fkWGiEGkRNrg<BRK>spotify:playlist:36Ot0aLoUuY2P7sqr031aE<BRK>spotify:playlist:2f9pxJkZODXoVfTIDaK0Uk<BRK>spotify:playlist:5XaKV8l4f3W9tNuZAVyBfG<BRK>spotify:playlist:7MqwKicbWkSqg8NqTlRPoe<BRK>spotify:playlist:6qIunk15MFik1Sk8uTBf5Y<BRK>spotify:playlist:7Flfj6ynULLBWMBMLcqeSp<BRK>spotify:playlist:0pAFaRaswyUlEEIArxB5RN<BRK>spotify:playlist:3elfQ0KvIu8TQpsZwTgJf6<BRK>spotify:playlist:5ZcNolG8B2BXbyipxT9YRy<BRK>spotify:playlist:46RZnLCi8kP0BFDvouvK9N<BRK>spotify:playlist:1LfbMdDxqt8yJKwvTORcj8<BRK>spotify:playlist:2rNiB8Esc7HJuPN9UmIk5H<BRK>spotify:playlist:4EMF4sTIUVaqMUYIbryNrv<BRK>spotify:playlist:5lyrY9WKRBBTKzV0W52dzp<BRK>spotify:playlist:5EjXCAWIaggd4vlu7ne0XS<BRK>spotify:playlist:34ZiSidmFdGLhBjxjFAdQ9<BRK>spotify:playlist:6jGm0vARnL2vbYX8bJwJds<BRK>spotify:playlist:7eBE1sebCrtZ9j6tfxaeeu<BRK>spotify:playlist:0RcQ3DahpqGWB0YKcozjl5<BRK>spotify:playlist:3HDRCbDKaXTGeLh6xZGPXa<BRK>spotify:playlist:1TEgqlNkLIpt5bchvRfKMn<BRK>spotify:playlist:1pbEgzHY5whSLTqNk5CxRN<BRK>spotify:playlist:7qEvigVwIlXZrshzz96AVl<BRK>spotify:playlist:50bHIu1ze8GG7ujvnpWvfu<BRK>spotify:playlist:1Gd2QkSfhmHZrFUa0oPpwm<BRK>spotify:playlist:5eaGBudd7xBYlo4fH6Bh9h<BRK>spotify:playlist:0OEecqUraQBDzfjGYlg7I7<BRK>spotify:playlist:5YmFMBkZzj3FglrRTBcU6W<BRK>spotify:playlist:6nKO8H7WVpmLvSOKRdtoyr<BRK>spotify:playlist:5cuBCukijEZGyTL83LvwlL<BRK>spotify:playlist:5MMLSMzai0hJnFvPPJ6pay<BRK>spotify:playlist:3QGWAXqudE69UR5MqgWlbA<BRK>spotify:playlist:1HOHWztGVUt9wToerUXo79<BRK>spotify:playlist:0H6qmFkPJvITW1vHcXmWMU<BRK>spotify:playlist:2YMQbMmsisR4ainatVpe3A<BRK>spotify:playlist:2cPccAKvCkPN2B6eWfiCnh<BRK>spotify:playlist:37i9dQZF1DX873GaRGUmPl<BRK>spotify:playlist:6fvHOn6rE61KSElYcyXX0z<BRK>spotify:playlist:37i9dQZF1DX2sUQwD7tbmL<BRK>spotify:playlist:38Z9JUW0RoPf8eZdwAZ0ei<BRK>spotify:playlist:3W7uODYLA9IdgBWUnYetQ9<BRK>spotify:playlist:4AnAZfcpsjDI7b4l8Ci9IH<BRK>spotify:playlist:4xL78j3svbMNTbCoTTnqu2<BRK>spotify:playlist:4RIRS0bU5IK3lX5ECy4h6F<BRK>spotify:playlist:6exJBlqEKqdS5cmWHCSdow<BRK>spotify:playlist:2pTpMrmyKsWs4PAxmpBF0V<BRK>spotify:playlist:5G62jjya66rMzN6pTW6VJf<BRK>spotify:playlist:6a0NC5OgaJFjefIzQM7xb9<BRK>spotify:playlist:5J7oSch6QbnDV85rMChaOW<BRK>spotify:playlist:1bjpETNiJZj9HVIm513cF9<BRK>spotify:playlist:3KtUlQxDqz7T8g4bxY5eeg<BRK>spotify:playlist:22P0UzEca6eT9YbLo9Av98<BRK>spotify:playlist:4Yz2WajlFMAFotJZhheqYp<BRK>spotify:playlist:7M4pAYnbACdHJ6TgYZSbny<BRK>spotify:playlist:2dJLF31xL5ztxm0BDpBUU3<BRK>spotify:playlist:37i9dQZF1DWYBF1dYDPlHw<BRK>spotify:playlist:68wUcdltu25ybfR4Ux2yfk<BRK>spotify:playlist:5q8bxFXSXwfhjR4XXBDpmF<BRK>spotify:playlist:74yK5UQ1XYPBN4ZzNonGno<BRK>spotify:playlist:2T4VC7qehBu3aV7mUWd6wl')\n",
      "57\n",
      "5\n",
      "(7119, 'spotify:playlist:4GbhSOvGnVfqubjciILJDj<BRK>spotify:playlist:2zFfEAY2R9LgzYCamBW1vB<BRK>spotify:playlist:1cPIgQBzSthkjZuSRxUPQM<BRK>spotify:playlist:4T4FCDHn2Z4feRtGPDC6fH<BRK>spotify:playlist:37i9dQZF1DX8FwnYE6PRvL<BRK>spotify:playlist:5EIgeNg71E858vNMpiDNXb<BRK>spotify:playlist:0fdl8h0EC9am1ykTD1t36i<BRK>spotify:playlist:37i9dQZF1DX9GRpeH4CL0S<BRK>spotify:playlist:05WIZNcSWhZBuL5FT9hX4k<BRK>spotify:playlist:2lKFKIElILQlEcRQhLM7Tv<BRK>spotify:playlist:2iUeuBHRDhgZVqf9RuShK9<BRK>spotify:playlist:37i9dQZF1DX1ngEVM0lKrb<BRK>spotify:playlist:2gPydmjdl7UoXMe6CCobQA<BRK>spotify:playlist:5HAe9LYbDULekXk5K0Ld4d<BRK>spotify:playlist:3EgWpevnsVkDz3cgWpS7hv<BRK>spotify:playlist:4wrjDhIIdkte8jJoCdEENz<BRK>spotify:playlist:5AuF9MKr6zXm3vBrt8aUEU<BRK>spotify:playlist:5HWAydYplbfQxmAAINkFNj<BRK>spotify:playlist:37i9dQZF1DWZTjb5Ra7K9k<BRK>spotify:playlist:7Flfj6ynULLBWMBMLcqeSp<BRK>spotify:playlist:65ZdTO92K2gWajSBMs81Xj<BRK>spotify:playlist:5ZcNolG8B2BXbyipxT9YRy<BRK>spotify:playlist:5bzUjdTVh5S9GJPj9PI57e<BRK>spotify:playlist:3OfU4PnTD4O6InJqRklGCy<BRK>spotify:playlist:4EMF4sTIUVaqMUYIbryNrv<BRK>spotify:playlist:5FYVq0tTPVjogyZmBYtf1F<BRK>spotify:playlist:5lyrY9WKRBBTKzV0W52dzp<BRK>spotify:playlist:7plhsIPs1Gy68iVXZoEtFR<BRK>spotify:playlist:3wEtXJpXzEP4eoQUvfUzKg<BRK>spotify:playlist:6VJLr5Ite4RMBNhFL3aQRe<BRK>spotify:playlist:2EAW0lhUYN0FQqarIK3A59<BRK>spotify:playlist:6DVEl9wfaVbvnYfxEuSE2d<BRK>spotify:playlist:1JXm8oyPZcLN3iLmQCIjnL<BRK>spotify:playlist:7eBE1sebCrtZ9j6tfxaeeu<BRK>spotify:playlist:50uKoJskyiFfhW4sNzbat2<BRK>spotify:playlist:4e8h7SMp1x3dyNVsAUfN9z<BRK>spotify:playlist:2RFmwA1UF7zhcalTC6YbUY<BRK>spotify:playlist:1pbEgzHY5whSLTqNk5CxRN<BRK>spotify:playlist:2EBhPOq47FML4H5Gno9tJQ<BRK>spotify:playlist:5T5cTXq2PaCBpaYKtdnLKa<BRK>spotify:playlist:3AndBZRL0O0tpSBKurlBAD<BRK>spotify:playlist:7qaMgYchnFVFJhFX8Uix36<BRK>spotify:playlist:3PEhEoRMMjZv5qxJASFc6N<BRK>spotify:playlist:727gqBLHm7iawCiJ4f7jYA<BRK>spotify:playlist:37i9dQZF1DXaLaoaQqrfyO<BRK>spotify:playlist:5cuBCukijEZGyTL83LvwlL<BRK>spotify:playlist:66f57aeOM3CDTAqdznc9zv<BRK>spotify:playlist:1oVg933qZAQTSyPM6KiLPP<BRK>spotify:playlist:0DlWAG5EStDgo5XLr7AUpX<BRK>spotify:playlist:2YMQbMmsisR4ainatVpe3A<BRK>spotify:playlist:2cPccAKvCkPN2B6eWfiCnh<BRK>spotify:playlist:3cccSX9qfdGUkNO3zY1blJ<BRK>spotify:playlist:5xf47f8EISHQytbzqkkGbb<BRK>spotify:playlist:7hJfYpKLDQwmeHIPTmNS5y<BRK>spotify:playlist:4AnAZfcpsjDI7b4l8Ci9IH<BRK>spotify:playlist:30icc5oZLZR1bgMa3YjdVE<BRK>spotify:playlist:5iF0qJlpJdt5GysNwRbZw3<BRK>spotify:playlist:5oYqhSWT1tCSyb8tgs7nVA<BRK>spotify:playlist:0oByDmQs21ugtVsaB6xt1i<BRK>spotify:playlist:3JEf0WFZjNEqWdpxJlJjoj<BRK>spotify:playlist:23LG2wxX2XsbgruTjDRMNm<BRK>spotify:playlist:0MiNiiLm7aSYZGW5RV3kR5<BRK>spotify:playlist:6a8QAM819rkriS3TvEWVvL<BRK>spotify:playlist:6qOYZu0BVD7NB7YEjeeuiA<BRK>spotify:playlist:37i9dQZF1DXc7aGdJ1YSSD<BRK>spotify:playlist:3KtUlQxDqz7T8g4bxY5eeg<BRK>spotify:playlist:4RYwYf2QImR34DhlW661Ul<BRK>spotify:playlist:37i9dQZF1DX873GaRGUmPl<BRK>spotify:playlist:27MOikgPyioN5WaGV8znr8<BRK>spotify:playlist:2IE3aVIkrOExzd5wxbbjQH<BRK>spotify:playlist:1S4uanGprS3HerhCYv7xsA<BRK>spotify:playlist:37i9dQZF1DWYBF1dYDPlHw<BRK>spotify:playlist:74yK5UQ1XYPBN4ZzNonGno')\n",
      "65598\n",
      "6\n",
      "(5505, 'spotify:playlist:5dacHw1xTEd15gMlwZHpUP<BRK>spotify:playlist:7GEv4UtDfK9PjqzTiYwwNg<BRK>spotify:playlist:5S6kukIVJrySqIRYlJmzP8<BRK>spotify:playlist:7dQaByDgO3Jg4289prKJW1<BRK>spotify:playlist:41Qgn46dISDuUp4oynvZCd<BRK>spotify:playlist:5nP3qxViMjOHD5AVQ6Z321<BRK>spotify:playlist:37i9dQZF1DX1Mj6nQRkc5p<BRK>spotify:playlist:37i9dQZF1DX8FwnYE6PRvL<BRK>spotify:playlist:2wzwbXk7HCeqe2aNVILObT<BRK>spotify:playlist:39dxW3vCrHtCelAnLW077O<BRK>spotify:playlist:62OGJ3ofIQ04WuXxKX6tL4<BRK>spotify:playlist:6m9tmVTXWSAjO5e3HkWn3A<BRK>spotify:playlist:4QvC0zAIISJgxl8dZ8J65k<BRK>spotify:playlist:37i9dQZF1E4EBdeEVqipSd<BRK>spotify:playlist:37i9dQZF1DX0mi9kezFJ0K<BRK>spotify:playlist:1LS5F6QIWoMT7oQWl6RruB<BRK>spotify:playlist:5We6JEGrjKCH6LN66wXvCj<BRK>spotify:playlist:37i9dQZF1DWXTHBOfJ8aI7<BRK>spotify:playlist:37i9dQZF1DX68H8ZujdnN7<BRK>spotify:playlist:0YJUoQG29FhKcGTBVISshi<BRK>spotify:playlist:37i9dQZF1DWWsq4e0rDzty<BRK>spotify:playlist:0S4RgkTyzk7fnbcvbjJZou<BRK>spotify:playlist:5hxmVjhVFrf0B2oPsM3YCA<BRK>spotify:playlist:0hi22gLcmx5HASvpqz1C0e<BRK>spotify:playlist:63Ba9NwCzM85loSzKtevN6<BRK>spotify:playlist:64LNqWjY55d6cMiqcgdtO5<BRK>spotify:playlist:37i9dQZF1DWWNdUy4Dt6x4<BRK>spotify:playlist:74rrc0ynZdZueq6gFBINxf<BRK>spotify:playlist:1WEJ4tiPq1Tku0uNpySdpe<BRK>spotify:playlist:5mGcxvzVCEBTQuV7FMJXoq<BRK>spotify:playlist:54ctwaQwi1FT9232ziJET2<BRK>spotify:playlist:3LDsuqXWE1fuMHLUcog9A7<BRK>spotify:playlist:6N4OpEkWtV9dRKH5UzPiOk<BRK>spotify:playlist:3dS5Tqs4bRdZ5X0jfgkXr7<BRK>spotify:playlist:4keLi9EAk9RvOUgilVAMIc<BRK>spotify:playlist:37i9dQZF1DWXRqgorJj26U<BRK>spotify:playlist:4YkhY5Sy3rPc0amoJ1eHFb<BRK>spotify:playlist:5exEuw03PxcVAOwP87iZDl<BRK>spotify:playlist:37i9dQZF1DWYNSm3Z3MxiM<BRK>spotify:playlist:37i9dQZF1DWT0IiTU5mrJ9<BRK>spotify:playlist:37i9dQZF1DWWRktbhJiuqL<BRK>spotify:playlist:6M7MkMvstN6eQ5mdpeEdsw<BRK>spotify:playlist:4yuu4d4t5kPCfvRxITypQu<BRK>spotify:playlist:07y4GaRpJhuYbqsji4ih1Q<BRK>spotify:playlist:6Apsxba4viyXAdhPX2wFp8<BRK>spotify:playlist:5tgBBns8tt87aDHrtJK8I0<BRK>spotify:playlist:6sbYV5jiN3utU5AVZli58t<BRK>spotify:playlist:7utY6j7Yt6KjFdOWyg7toD<BRK>spotify:playlist:37i9dQZF1DWZNFWEuVbQpD<BRK>spotify:playlist:37i9dQZF1DX7Z7kYpKKGTc<BRK>spotify:playlist:0PAm9Q42J68pp0x0m2ornj<BRK>spotify:playlist:3NNfzDyYINk4MDQH8hnytt<BRK>spotify:playlist:1GXRoQWlxTNQiMNkOe7RqA<BRK>spotify:playlist:4UV5uUQIBldt0zIALA1f25<BRK>spotify:playlist:3mqrGe7R5X6U1IAymcRQ70<BRK>spotify:playlist:1EnXeocHAIdxMNn9B1BuFU<BRK>spotify:playlist:5iF0qJlpJdt5GysNwRbZw3<BRK>spotify:playlist:0B0QxbQNv2kWjP8rxVxbcJ<BRK>spotify:playlist:37i9dQZF1DXdOEFt9ZX0dh<BRK>spotify:playlist:0GMhfddbdq4A5JfPlbbe2e<BRK>spotify:playlist:3Ho3iO0iJykgEQNbjB2sic<BRK>spotify:playlist:0MiNiiLm7aSYZGW5RV3kR5<BRK>spotify:playlist:37i9dQZF1DX3jEXA6PtXeV<BRK>spotify:playlist:1XAXDKMq2CB0XIIOEtQQEe<BRK>spotify:playlist:22P0UzEca6eT9YbLo9Av98<BRK>spotify:playlist:1VM7YlZLFKWdDnId1ZZbSo<BRK>spotify:playlist:3CuHyt7yI9e1dsAGI5kelH<BRK>spotify:playlist:1lpBpThgmwhxQvxue8VlmP<BRK>spotify:playlist:3BaTqQ6Y2bDsZYbw5pHjdd<BRK>spotify:playlist:7yWzFD5j7JtBokcKANdO5u<BRK>spotify:playlist:2xsIoqzZXdHDvnrot6Z8ql')\n",
      "65599\n",
      "7\n",
      "(4406, 'spotify:playlist:2oQeyI9uoezOQwoD98CKmR<BRK>spotify:playlist:2zFfEAY2R9LgzYCamBW1vB<BRK>spotify:playlist:6UYyiQhn0S9i12khb862gw<BRK>spotify:playlist:3WOcdi1iImpS91xru8yrp0<BRK>spotify:playlist:1geyfozi6iX1zrryE1ro9i<BRK>spotify:playlist:4cx188wDtF9YiTFrhSjgWV<BRK>spotify:playlist:05WIZNcSWhZBuL5FT9hX4k<BRK>spotify:playlist:4zK0b9Q5hNJZHp9Pz2wASi<BRK>spotify:playlist:6rLgZTRcUBnRJ0S1WMaXjb<BRK>spotify:playlist:0bKh6LMkR7VPxAl0qvkxs4<BRK>spotify:playlist:3PAKFoONKxSeHiTVAD3MpH<BRK>spotify:playlist:7J5gYnv5bK3ijeTjGBziM0<BRK>spotify:playlist:0x51YbXGsPWaE7TMKIo7bG<BRK>spotify:playlist:2h4wEwQR3Jox8zBohnG2Y4<BRK>spotify:playlist:6O8dOHAuEqDVdkHQZPHmDZ<BRK>spotify:playlist:6mHwpXp5J5WHN4dFeejdEH<BRK>spotify:playlist:6vn8eLVH0X3X6zpkSRlauI<BRK>spotify:playlist:69r4olANiYZrNwgZvXAUd6<BRK>spotify:playlist:4dpOAEJzkgxQwY9PkKU0v0<BRK>spotify:playlist:6eSZPVzW1fRY7r03wwSUZS<BRK>spotify:playlist:7ztCGMKJMU8tmTcos4EC1l<BRK>spotify:playlist:65RwceKB8V7lt5JOzLTQQ2<BRK>spotify:playlist:2lguvbohBv3K8JsyKrUK4L<BRK>spotify:playlist:4zK4MqjpPkDWbSoXbHtbQn<BRK>spotify:playlist:34ZiSidmFdGLhBjxjFAdQ9<BRK>spotify:playlist:5COyD6gZQxQTTTWethtcHa<BRK>spotify:playlist:6VJLr5Ite4RMBNhFL3aQRe<BRK>spotify:playlist:2mE6ajAGurIPK6qUu1r7zJ<BRK>spotify:playlist:2EAW0lhUYN0FQqarIK3A59<BRK>spotify:playlist:1JXm8oyPZcLN3iLmQCIjnL<BRK>spotify:playlist:0uDEMy8zboD1Ha2731j4qh<BRK>spotify:playlist:2Jsme4PTIOP7yma5v1odIM<BRK>spotify:playlist:0awf733PqdTtgS34nFki28<BRK>spotify:playlist:50MHm3GLaxk0gzbrgnxTiu<BRK>spotify:playlist:76n7Qxd2Qk8pwERZ5cjU3H<BRK>spotify:playlist:1Nb192dzf5FU9Lq9O1ymQh<BRK>spotify:playlist:4QMpDMwSQlU0E3ffHaPZNG<BRK>spotify:playlist:76uYGjpcW4PZcTSDEZULjs<BRK>spotify:playlist:2RnXyGLlSHOYZTpmPmvT8R<BRK>spotify:playlist:2Dcv1AVHcm6h7ACd4PL7KC<BRK>spotify:playlist:4nuAs8oc3F0LklsMQyXeao<BRK>spotify:playlist:7bKvxhu9k7b3HIrd3s89c8<BRK>spotify:playlist:5YnieTy1QVmyHGiq0D6h7w<BRK>spotify:playlist:7qaMgYchnFVFJhFX8Uix36<BRK>spotify:playlist:2rFmeL4b7r12D1eqxJbAFe<BRK>spotify:playlist:26rzNNfm7aolcGbtw5Lbah<BRK>spotify:playlist:1x0C2IjaXCBx0ev5YhHYZZ<BRK>spotify:playlist:66f57aeOM3CDTAqdznc9zv<BRK>spotify:playlist:1lgc86EWD9hWCPQD1lYYaK<BRK>spotify:playlist:60B1QiK9hD64s1m5CSkDeh<BRK>spotify:playlist:01XyKNwq1Y5oPpxHtQfkyu<BRK>spotify:playlist:2KBb1d8YVICO3Gj3Km9Ju0<BRK>spotify:playlist:4XfVSo8diUdplGoDpyttBm<BRK>spotify:playlist:6OBTyhwMsJ23jMoMGlrhvi<BRK>spotify:playlist:6XfLczVQy0REpdClcfmY0f<BRK>spotify:playlist:3VDqkgrW3rafMyIc9DaQBD<BRK>spotify:playlist:4hjVaaWolx6dIymm7x64LV<BRK>spotify:playlist:43LCjSPHzm5uS3Ifshm6Rf<BRK>spotify:playlist:1peUmLlphgMBgatJyV5cbb<BRK>spotify:playlist:1faPV2WDyZ9hfTpXwUFe2f<BRK>spotify:playlist:61xa1d86QLvHj1aEO1gRS7<BRK>spotify:playlist:3yrK03bz2hoxBMwIFAhIDZ<BRK>spotify:playlist:4MsHSGcdZAUfn7T404sV4u<BRK>spotify:playlist:4lUac2iVRXMbxryNe67yGf<BRK>spotify:playlist:1YqqceG0H4UWrJvzf9xLbA<BRK>spotify:playlist:41Mys1GC5uTVs6DayqQHna<BRK>spotify:playlist:1444nxHhAGO4SjDpXaqBSz<BRK>spotify:playlist:2qB1FRTAFc5SG7LPi9E8QB<BRK>spotify:playlist:5iHQ1zpNp22LHLiV9o6RiW<BRK>spotify:playlist:1I1QXjuDFJRMYJsqoyx1zg')\n",
      "65602\n",
      "8\n",
      "(24224, 'spotify:playlist:5nP3qxViMjOHD5AVQ6Z321<BRK>spotify:playlist:5S6kukIVJrySqIRYlJmzP8<BRK>spotify:playlist:37i9dQZF1DX8FwnYE6PRvL<BRK>spotify:playlist:0fdl8h0EC9am1ykTD1t36i<BRK>spotify:playlist:3wEtNGAMsFdA7YVZFR2mkd<BRK>spotify:playlist:5JR0y4HZhPkDEJ66UbtrOD<BRK>spotify:playlist:4vTaYkwanx3QH79rPJhOmy<BRK>spotify:playlist:1KdFQWxzl0xivNPNjY4Es4<BRK>spotify:playlist:7cpVvITfzxJmw84sbn9bHU<BRK>spotify:playlist:4JyF5SPLlHnE21Dr2wM6ik<BRK>spotify:playlist:2vq4snGJpTHL9YHe1FNveJ<BRK>spotify:playlist:75vKOnfctBdBeVy1vru9FO<BRK>spotify:playlist:3Nj1QuqbsSdLkNfIwuvRt5<BRK>spotify:playlist:63nVCq80RDgZv4jqUvd25G<BRK>spotify:playlist:35bWsU654DdPT8I42EZ3N1<BRK>spotify:playlist:1LS5F6QIWoMT7oQWl6RruB<BRK>spotify:playlist:2XSee4NO5TS8tBWSpziSHp<BRK>spotify:playlist:09o5nUsgkWhnCV94yqzPFY<BRK>spotify:playlist:4akhIp1BewNJCiF3vLLpgD<BRK>spotify:playlist:3d5hMvueiQz7KqqD9V5ksl<BRK>spotify:playlist:6qFUHNgpICaRmmMiwWDx67<BRK>spotify:playlist:37i9dQZF1DWXTHBOfJ8aI7<BRK>spotify:playlist:68RSXU9KxaxjYAlQjhw5PF<BRK>spotify:playlist:0Y8ddpOFWxg7lC8iTf72Sk<BRK>spotify:playlist:37i9dQZF1DWWsq4e0rDzty<BRK>spotify:playlist:63Ba9NwCzM85loSzKtevN6<BRK>spotify:playlist:1MEmEumj2uMWr5irFfH63G<BRK>spotify:playlist:37i9dQZF1DXbDjX0hus3Iu<BRK>spotify:playlist:0sYEtFE0DrYQsYvyGbeMPy<BRK>spotify:playlist:6k03lXAfwUwTsR9j5XkXnC<BRK>spotify:playlist:7sXsBFQ5l1sOkE96b0YlpZ<BRK>spotify:playlist:37i9dQZF1DWXRqgorJj26U<BRK>spotify:playlist:4YkhY5Sy3rPc0amoJ1eHFb<BRK>spotify:playlist:5cwIrjOMWTiGCYB5Z9oQix<BRK>spotify:playlist:3AndBZRL0O0tpSBKurlBAD<BRK>spotify:playlist:4R8Vif69qTVS74MCR9nr6q<BRK>spotify:playlist:37i9dQZF1DWWRktbhJiuqL<BRK>spotify:playlist:1lpBpThgmwhxQvxue8VlmP<BRK>spotify:playlist:0tJgmR0QbnmNCtvcnWHKZA<BRK>spotify:playlist:37i9dQZF1DX4osfY3zybD2<BRK>spotify:playlist:3U4xMA9zcSVUiDuT8XrE8R<BRK>spotify:playlist:0ZrfBhzftYYhuXfGPd93yH<BRK>spotify:playlist:6M7MkMvstN6eQ5mdpeEdsw<BRK>spotify:playlist:37i9dQZF1DXbIbVYph0Zr5<BRK>spotify:playlist:2VxF0Ope2So8d0PQQv9iol<BRK>spotify:playlist:5LhIOGayylJTioRBrAcDlJ<BRK>spotify:playlist:5r3eUcD0bQfsrUXRxIszf7<BRK>spotify:playlist:45Crz4qJ0lFW6Tx2G7OnYv<BRK>spotify:playlist:3iFce0DAkMAGkr0LEMg3fH<BRK>spotify:playlist:38Z9JUW0RoPf8eZdwAZ0ei<BRK>spotify:playlist:66zMURup6R6yWFVDBTdDaj<BRK>spotify:playlist:37i9dQZF1DWZNFWEuVbQpD<BRK>spotify:playlist:7iurKdgLyK7nML3nX8g58b<BRK>spotify:playlist:0pcBF2FazrI2YvWPh4VIBV<BRK>spotify:playlist:4E37A4nKoPp0tVWi5jJrHz<BRK>spotify:playlist:5An2yIhsPsvSzhAaMfc7QJ<BRK>spotify:playlist:3NNfzDyYINk4MDQH8hnytt<BRK>spotify:playlist:4UV5uUQIBldt0zIALA1f25<BRK>spotify:playlist:2jKZQAXjtpLDVAPcw1jPVP<BRK>spotify:playlist:0B0QxbQNv2kWjP8rxVxbcJ<BRK>spotify:playlist:5qNHuEyfs4QHR8NI4oNaxE<BRK>spotify:playlist:3Ho3iO0iJykgEQNbjB2sic<BRK>spotify:playlist:7dKc8WeImnw7fYoIC96qdT<BRK>spotify:playlist:1j8d329ikLrAGt5eEoIdo3<BRK>spotify:playlist:0vPdALa2JVcJJRcpL3bcTW<BRK>spotify:playlist:6gKuzkvSdcAL1pCoEdpYyp<BRK>spotify:playlist:3W7uODYLA9IdgBWUnYetQ9<BRK>spotify:playlist:1I1QXjuDFJRMYJsqoyx1zg<BRK>spotify:playlist:2xsIoqzZXdHDvnrot6Z8ql')\n"
     ]
    }
   ],
   "source": [
    "# TODO: Initialize num_songs x embedding_dim 2D matrix of embeddings\n",
    "# TODO: Start learning. Our loss function is the sum for each song pair dot product of two song embeddings - their co-occurrences (maybe log'd) squared\n",
    "print(len(songs_set))\n",
    "count = 0\n",
    "for song in songs_set:  \n",
    "    count += 1\n",
    "    if count >= 10:\n",
    "        break\n",
    "    print(song)\n",
    "    print(song_to_index[song])\n",
    "    print(all_songs[song_to_index[song]])\n",
    "# This is just to reference indexes of songs. So we iterate over every song in the song set\n",
    "# song is its ID in our db but is useless for any sort of math\n",
    "# song_to_index is the important index in our db\n",
    "# all_songs[song_to_index] is the actual song data, which I guess right now we aren't caring about\n",
    "    "
   ]
  },
  {
   "cell_type": "code",
   "execution_count": 48,
   "metadata": {},
   "outputs": [
    {
     "name": "stdout",
     "output_type": "stream",
     "text": [
      "[[0.01 0.01 0.01 ... 0.01 0.01 0.01]\n",
      " [0.01 0.01 0.01 ... 0.01 0.01 0.01]\n",
      " [0.01 0.01 0.01 ... 0.01 0.01 0.01]\n",
      " ...\n",
      " [0.01 0.01 0.01 ... 0.01 0.01 0.01]\n",
      " [0.01 0.01 0.01 ... 0.01 0.01 0.01]\n",
      " [0.01 0.01 0.01 ... 0.01 0.01 0.01]]\n",
      "Epoch 1: 18549.51694500002\n",
      "Epoch 2: 527012.5423001156\n",
      "Epoch 3: 15467171.864689872\n",
      "Epoch 4: 479052138.2232609\n",
      "Epoch 5: 15125587166.354383\n",
      "Epoch 6: 482682927554.0874\n",
      "Epoch 7: 15502351374159.977\n",
      "Epoch 8: 499941814483735.94\n",
      "Epoch 9: 1.6166142183204948e+16\n",
      "Epoch 10: 5.236693587488467e+17\n",
      "Epoch 11: 1.6982791572700342e+19\n",
      "Epoch 12: 5.5117515891669834e+20\n",
      "Epoch 13: 1.7897219178495912e+22\n",
      "Epoch 14: 5.8132971876827286e+23\n",
      "Epoch 15: 1.8886515045259455e+25\n"
     ]
    },
    {
     "ename": "KeyboardInterrupt",
     "evalue": "",
     "output_type": "error",
     "traceback": [
      "\u001b[0;31m---------------------------------------------------------------------------\u001b[0m",
      "\u001b[0;31mKeyboardInterrupt\u001b[0m                         Traceback (most recent call last)",
      "Cell \u001b[0;32mIn[48], line 18\u001b[0m\n\u001b[1;32m     16\u001b[0m counter \u001b[38;5;241m+\u001b[39m\u001b[38;5;241m=\u001b[39m \u001b[38;5;241m1\u001b[39m\n\u001b[1;32m     17\u001b[0m gradients \u001b[38;5;241m=\u001b[39m np\u001b[38;5;241m.\u001b[39mzeros_like(embeddings)\n\u001b[0;32m---> 18\u001b[0m gradients \u001b[38;5;241m+\u001b[39m\u001b[38;5;241m=\u001b[39m learningRate \u001b[38;5;241m*\u001b[39m (dotProds \u001b[38;5;241m-\u001b[39m COM)\u001b[38;5;241m.\u001b[39mdot(embeddings)\n\u001b[1;32m     19\u001b[0m diff \u001b[38;5;241m=\u001b[39m np\u001b[38;5;241m.\u001b[39msum(np\u001b[38;5;241m.\u001b[39mabs(gradients))\n\u001b[1;32m     20\u001b[0m embeddings \u001b[38;5;241m-\u001b[39m\u001b[38;5;241m=\u001b[39m gradients\n",
      "\u001b[0;31mKeyboardInterrupt\u001b[0m: "
     ]
    }
   ],
   "source": [
    "# Ok so initialize our embeddings of size numSongs by numDimensions which I'm going to arbitrarily make 30\n",
    "embeddingDim = 30\n",
    "trainingLength = len(songs_set)\n",
    "embeddingsSize = (trainingLength, embeddingDim)\n",
    "embeddings = np.array([[0.01]*embeddingDim] *trainingLength)\n",
    "print(embeddings)\n",
    "learningRate = 0.05 #also arbitrary\n",
    "threshold = 0.001\n",
    "diff = 1\n",
    "epsilon = 1e-8\n",
    "dotProds = embeddings.dot(embeddings.T)\n",
    "COM = cooccurrence_matrix.todense()\n",
    "log_COM = cooccurrence_matrix.log1p().todense()\n",
    "counter = 0\n",
    "while diff > threshold:\n",
    "    counter += 1\n",
    "    gradients = np.zeros_like(embeddings)\n",
    "    gradients += learningRate * (dotProds - COM).dot(embeddings)\n",
    "    diff = np.sum(np.abs(gradients))\n",
    "    embeddings -= gradients\n",
    "    # if counter % 100 == 0:\n",
    "    print(f\"Epoch {counter}: {diff}\")\n",
    "\n"
   ]
  }
 ],
 "metadata": {
  "kernelspec": {
   "display_name": "base",
   "language": "python",
   "name": "python3"
  },
  "language_info": {
   "codemirror_mode": {
    "name": "ipython",
    "version": 3
   },
   "file_extension": ".py",
   "mimetype": "text/x-python",
   "name": "python",
   "nbconvert_exporter": "python",
   "pygments_lexer": "ipython3",
   "version": "3.12.7"
  },
  "orig_nbformat": 4
 },
 "nbformat": 4,
 "nbformat_minor": 2
}
